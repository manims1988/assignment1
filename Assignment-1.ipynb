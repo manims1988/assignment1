{
 "cells": [
  {
   "cell_type": "markdown",
   "id": "a8fac9a4-8c29-4d1e-b5d2-425270380786",
   "metadata": {},
   "source": [
    "1. In the below elements which of them are values or an expression? eg:- values can be integer or string and expressions will be mathematical operators.\n",
    "* \n",
    "'hello'\n",
    "-87.8\n",
    "- \n",
    "/ \n",
    "+\t\n",
    "6 "
   ]
  },
  {
   "cell_type": "code",
   "execution_count": 1,
   "id": "853ab23c-60c4-4733-a8ac-759b29c68ce3",
   "metadata": {},
   "outputs": [
    {
     "data": {
      "text/plain": [
       "(20, 1, 0.8, 9)"
      ]
     },
     "execution_count": 1,
     "metadata": {},
     "output_type": "execute_result"
    }
   ],
   "source": [
    "# Answer\n",
    "\n",
    "# * -> expression\n",
    "a = 4 * 5\n",
    "# 'hello' -> values\n",
    "# -87.8 -> values\n",
    "# - -> expression\n",
    "b= 5 - 4\n",
    "# / -> expression\n",
    "c = 4 / 5\n",
    "# + -> expression\n",
    "d = 4 + 5\n",
    "# 6 -> values \n",
    "a, b, c, d "
   ]
  },
  {
   "cell_type": "markdown",
   "id": "58c958d1-d22c-4c98-8102-4c97afd644ca",
   "metadata": {},
   "source": [
    "2. What is the difference between string and variable?"
   ]
  },
  {
   "cell_type": "code",
   "execution_count": 2,
   "id": "7af6ca3b-dfba-4ee0-aa07-8ae12dd88c6d",
   "metadata": {},
   "outputs": [
    {
     "data": {
      "text/plain": [
       "'hello world'"
      ]
     },
     "execution_count": 2,
     "metadata": {},
     "output_type": "execute_result"
    }
   ],
   "source": [
    "# Answer \n",
    "\n",
    "# 1. String -> it is a data type and represented in single or double quotes.\n",
    "# 2. variable -> it is used to save values in memory.\n",
    "# example \n",
    "something = 'hello world'\n",
    "# something -> variable \n",
    "# 'hello world' -> string \n",
    "something"
   ]
  },
  {
   "cell_type": "markdown",
   "id": "f4ca472b-1cf2-4107-8dcf-286854dcb00c",
   "metadata": {},
   "source": [
    "3. Describe three different data types."
   ]
  },
  {
   "cell_type": "code",
   "execution_count": null,
   "id": "d7ef2430-94ac-4017-8bb2-0331c2eb63ce",
   "metadata": {},
   "outputs": [],
   "source": [
    "# Answer \n",
    "\n",
    "# 1. String\n",
    "# It is represented in single or double quotes. \n",
    "a = 'hello world'\n",
    "\n",
    "# 2. Numeric\n",
    "# It is represented in int, float, complex. \n",
    "b = 50\n",
    "c = 50.00\n",
    "d = 50+5j\n",
    "\n",
    "# 3. Boolean\n",
    "# It is represented in two values either False or True. \n",
    "e = True\n",
    "f = False \n",
    "\n",
    "a, b, c, d, e, f"
   ]
  },
  {
   "cell_type": "markdown",
   "id": "d1bcebaa-09d9-46aa-b086-d97763e7bf0f",
   "metadata": {},
   "source": [
    "4. What is an expression made up of? What do all expressions do?"
   ]
  },
  {
   "cell_type": "code",
   "execution_count": 3,
   "id": "0834b7bc-d32f-4f0a-a722-d630d50a40d0",
   "metadata": {},
   "outputs": [
    {
     "data": {
      "text/plain": [
       "(3, -1, 2, 0.5, 0, 1, 2, 3, False, True, False, True, True, False, True, True)"
      ]
     },
     "execution_count": 3,
     "metadata": {},
     "output_type": "execute_result"
    }
   ],
   "source": [
    "# Answer \n",
    "\n",
    "# expression is made for to do some sort of operations like \n",
    "# Arithmetic operations\n",
    "a = 1 + 2\n",
    "b = 1 - 2\n",
    "c = 1 * 2\n",
    "d = 1 / 2\n",
    "e = 1 // 2\n",
    "f = 1 % 2\n",
    "\n",
    "# Relational operations \n",
    "g = 2\n",
    "h = 3 \n",
    "\n",
    "i = g > h\n",
    "j = g < h\n",
    "k = g >= h\n",
    "l = g <= h\n",
    "m = g != h\n",
    "\n",
    "# Logical operations \n",
    "\n",
    "n = True and False \n",
    "o = True or False \n",
    "p = not False \n",
    "\n",
    "a, b, c, d, e, f, g, h, i, j, k, l, m, n, o, p"
   ]
  },
  {
   "cell_type": "markdown",
   "id": "ab076287-44e1-4614-af66-9708203c45dd",
   "metadata": {},
   "source": [
    "5. This assignment statements, like spam = 10. What is the difference between an expression and a statement?"
   ]
  },
  {
   "cell_type": "code",
   "execution_count": 4,
   "id": "8a2100e1-5e18-4a25-ae34-a210de8c0e84",
   "metadata": {},
   "outputs": [
    {
     "data": {
      "text/plain": [
       "10"
      ]
     },
     "execution_count": 4,
     "metadata": {},
     "output_type": "execute_result"
    }
   ],
   "source": [
    "# Answer \n",
    "\n",
    "# The expression is used to perform some operation and it would produce meaningful output\n",
    "# The statement is nothing but we are assigning a value to a variable to store it in memory location. As above example shows the statement \n",
    "spam = 10 \n",
    "spam"
   ]
  },
  {
   "cell_type": "markdown",
   "id": "c2dc0ac7-a1fa-4448-ac1f-ff708c4777d3",
   "metadata": {},
   "source": [
    "6. After running the following code, what does the variable bacon contain?\n",
    "bacon = 22\n",
    "bacon + 1"
   ]
  },
  {
   "cell_type": "code",
   "execution_count": 5,
   "id": "445b8cf9-0acd-4a7b-bca8-aedd69ccba7e",
   "metadata": {},
   "outputs": [],
   "source": [
    "# Answer\n",
    "\n",
    "bacon = 22\n",
    "bacon + 1"
   ]
  },
  {
   "cell_type": "raw",
   "id": "a94a0245-958b-4972-aed4-f0a6a894c959",
   "metadata": {},
   "source": [
    "7. What should the values of the following two terms be?\n",
    "'spam' + 'spamspam'\n",
    "'spam' * 3"
   ]
  },
  {
   "cell_type": "code",
   "execution_count": 7,
   "id": "9576a986-84ff-4f81-b3a5-e0f89e17ba73",
   "metadata": {},
   "outputs": [
    {
     "data": {
      "text/plain": [
       "'spamspamspam'"
      ]
     },
     "execution_count": 7,
     "metadata": {},
     "output_type": "execute_result"
    }
   ],
   "source": [
    "# Answer \n",
    "\n",
    "'spam' + 'spamspam'"
   ]
  },
  {
   "cell_type": "code",
   "execution_count": 8,
   "id": "ed0f110b-0bae-4946-80b5-952845031e02",
   "metadata": {},
   "outputs": [
    {
     "data": {
      "text/plain": [
       "'spamspamspam'"
      ]
     },
     "execution_count": 8,
     "metadata": {},
     "output_type": "execute_result"
    }
   ],
   "source": [
    "'spam' * 3"
   ]
  },
  {
   "cell_type": "raw",
   "id": "df5f4ef8-88f5-4f66-83ef-5be8d0f79025",
   "metadata": {},
   "source": [
    "8. Why is eggs a valid variable name while 100 is invalid?"
   ]
  },
  {
   "cell_type": "code",
   "execution_count": 9,
   "id": "68a30193-86eb-4d1e-b7bc-b88aa7273e00",
   "metadata": {},
   "outputs": [
    {
     "data": {
      "text/plain": [
       "(10, 20, 30)"
      ]
     },
     "execution_count": 9,
     "metadata": {},
     "output_type": "execute_result"
    }
   ],
   "source": [
    "# Answer \n",
    "\n",
    "# variable must be starts with lower case a-z or upper case A-Z or underscores (_) but it should not start from numbers\n",
    "age = 10\n",
    "Age = 20\n",
    "_Age = 30 \n",
    "\n",
    "age, Age, _Age"
   ]
  },
  {
   "cell_type": "raw",
   "id": "a0ab326b-68cc-4a20-bab6-19f5a066de53",
   "metadata": {},
   "source": [
    "9. What three functions can be used to get the integer, floating-point number, or string version of a value?"
   ]
  },
  {
   "cell_type": "code",
   "execution_count": 10,
   "id": "decbeafe-8c8a-4392-92b2-187a4ca9efdc",
   "metadata": {},
   "outputs": [
    {
     "data": {
      "text/plain": [
       "(20, 20.0, '10')"
      ]
     },
     "execution_count": 10,
     "metadata": {},
     "output_type": "execute_result"
    }
   ],
   "source": [
    "# Answer \n",
    "\n",
    "a = '20'\n",
    "#integer \n",
    "int_value = int(a)\n",
    "\n",
    "#floating-pint \n",
    "float_value = float(a)\n",
    "\n",
    "#string \n",
    "b = 10\n",
    "string_value = str(b)\n",
    "\n",
    "int_value, float_value, string_value "
   ]
  },
  {
   "cell_type": "raw",
   "id": "3a004a05-389f-48c6-9674-54e4317a6ab4",
   "metadata": {},
   "source": [
    "10. Why does this expression cause an error? How can you fix it?\n",
    "'I have eaten ' + 99 + ' burritos.'"
   ]
  },
  {
   "cell_type": "code",
   "execution_count": 11,
   "id": "fdd754a7-a8a6-49ec-8ffb-845f44847223",
   "metadata": {},
   "outputs": [
    {
     "data": {
      "text/plain": [
       "'I have eaten 99 burritos.'"
      ]
     },
     "execution_count": 11,
     "metadata": {},
     "output_type": "execute_result"
    }
   ],
   "source": [
    "# Answer\n",
    "\n",
    "'I have eaten ' + '99' + ' burritos.'"
   ]
  }
 ],
 "metadata": {
  "kernelspec": {
   "display_name": "Python 3 (ipykernel)",
   "language": "python",
   "name": "python3"
  },
  "language_info": {
   "codemirror_mode": {
    "name": "ipython",
    "version": 3
   },
   "file_extension": ".py",
   "mimetype": "text/x-python",
   "name": "python",
   "nbconvert_exporter": "python",
   "pygments_lexer": "ipython3",
   "version": "3.10.6"
  }
 },
 "nbformat": 4,
 "nbformat_minor": 5
}
